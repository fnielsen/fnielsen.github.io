{
 "cells": [
  {
   "cell_type": "code",
   "execution_count": 1,
   "metadata": {
    "collapsed": true
   },
   "outputs": [],
   "source": [
    "from everything import *"
   ]
  },
  {
   "cell_type": "code",
   "execution_count": 2,
   "metadata": {
    "collapsed": true
   },
   "outputs": [],
   "source": [
    "query = \"\"\"\n",
    "SELECT ?work ?workLabel (min(?dates) as ?date) (sample(?pages_) as ?pages) (sample(?venue_labels) as ?venue) (group_concat(?author_label; separator=\", \") as ?authors) WHERE {\n",
    "  ?work wdt:P50 wd:Q20980928 .\n",
    "  ?work wdt:P50 ?author .\n",
    "  ?author rdfs:label ?author_label . filter (lang(?author_label) = 'en')\n",
    "  \n",
    "  optional { ?work wdt:P577 ?dates }\n",
    "  optional { ?work wdt:P1104 ?pages_ }\n",
    "  optional { ?work wdt:P1433 ?venues . ?venues rdfs:label ?venue_labels . filter (lang(?venue_labels) = 'en') }\n",
    "  SERVICE wikibase:label { bd:serviceParam wikibase:language \"en\". }  \n",
    "} group by ?work ?workLabel\n",
    "order by desc(?date)\n",
    "\"\"\""
   ]
  },
  {
   "cell_type": "code",
   "execution_count": 3,
   "metadata": {
    "collapsed": true
   },
   "outputs": [],
   "source": [
    "service = sparql.Service('https://query.wikidata.org/sparql', method='GET')\n",
    "response = service.query(query)\n",
    "df = pd.DataFrame(response.fetchall(), columns=response.variables)"
   ]
  },
  {
   "cell_type": "code",
   "execution_count": 4,
   "metadata": {
    "collapsed": false
   },
   "outputs": [
    {
     "data": {
      "text/html": [
       "<div>\n",
       "<table border=\"1\" class=\"dataframe\">\n",
       "  <thead>\n",
       "    <tr style=\"text-align: right;\">\n",
       "      <th></th>\n",
       "      <th>work</th>\n",
       "      <th>workLabel</th>\n",
       "      <th>date</th>\n",
       "      <th>pages</th>\n",
       "      <th>venue</th>\n",
       "      <th>authors</th>\n",
       "    </tr>\n",
       "  </thead>\n",
       "  <tbody>\n",
       "    <tr>\n",
       "      <th>0</th>\n",
       "      <td>http://www.wikidata.org/entity/Q22329404</td>\n",
       "      <td>The Center for Integrated Molecular Brain Imag...</td>\n",
       "      <td>2016-01-01T00:00:00Z</td>\n",
       "      <td>7</td>\n",
       "      <td>NeuroImage</td>\n",
       "      <td>Klaus Kähler Holst, David Erritzøe, Julian Mac...</td>\n",
       "    </tr>\n",
       "    <tr>\n",
       "      <th>1</th>\n",
       "      <td>http://www.wikidata.org/entity/Q26236257</td>\n",
       "      <td>Literature, Geolocation and Wikidata</td>\n",
       "      <td>2016-01-01T00:00:00Z</td>\n",
       "      <td>4</td>\n",
       "      <td>None</td>\n",
       "      <td>Finn Årup Nielsen</td>\n",
       "    </tr>\n",
       "    <tr>\n",
       "      <th>2</th>\n",
       "      <td>http://www.wikidata.org/entity/Q21172700</td>\n",
       "      <td>Collective remembering of organizations</td>\n",
       "      <td>2015-10-05T00:00:00Z</td>\n",
       "      <td>19</td>\n",
       "      <td>Corporate Communications</td>\n",
       "      <td>Michael Andreas Etter, Finn Årup Nielsen</td>\n",
       "    </tr>\n",
       "    <tr>\n",
       "      <th>3</th>\n",
       "      <td>http://www.wikidata.org/entity/Q26820221</td>\n",
       "      <td>Strategies of Legitimacy Through Social Media:...</td>\n",
       "      <td>2015-08-06T00:00:00Z</td>\n",
       "      <td>31</td>\n",
       "      <td>Journal of Management Studies</td>\n",
       "      <td>Itziar Castelló, Michael Andreas Etter, Finn Å...</td>\n",
       "    </tr>\n",
       "    <tr>\n",
       "      <th>4</th>\n",
       "      <td>http://www.wikidata.org/entity/Q22329083</td>\n",
       "      <td>\"The sum of all human knowledge\": A systematic...</td>\n",
       "      <td>2015-02-01T00:00:00Z</td>\n",
       "      <td>27</td>\n",
       "      <td>Journal of the Association for Information Sci...</td>\n",
       "      <td>Arto Lanamäki, Mohamad Mehdi, Chitu Okoli, Mos...</td>\n",
       "    </tr>\n",
       "  </tbody>\n",
       "</table>\n",
       "</div>"
      ],
      "text/plain": [
       "                                       work  \\\n",
       "0  http://www.wikidata.org/entity/Q22329404   \n",
       "1  http://www.wikidata.org/entity/Q26236257   \n",
       "2  http://www.wikidata.org/entity/Q21172700   \n",
       "3  http://www.wikidata.org/entity/Q26820221   \n",
       "4  http://www.wikidata.org/entity/Q22329083   \n",
       "\n",
       "                                           workLabel                  date  \\\n",
       "0  The Center for Integrated Molecular Brain Imag...  2016-01-01T00:00:00Z   \n",
       "1               Literature, Geolocation and Wikidata  2016-01-01T00:00:00Z   \n",
       "2            Collective remembering of organizations  2015-10-05T00:00:00Z   \n",
       "3  Strategies of Legitimacy Through Social Media:...  2015-08-06T00:00:00Z   \n",
       "4  \"The sum of all human knowledge\": A systematic...  2015-02-01T00:00:00Z   \n",
       "\n",
       "  pages                                              venue  \\\n",
       "0     7                                         NeuroImage   \n",
       "1     4                                               None   \n",
       "2    19                           Corporate Communications   \n",
       "3    31                      Journal of Management Studies   \n",
       "4    27  Journal of the Association for Information Sci...   \n",
       "\n",
       "                                             authors  \n",
       "0  Klaus Kähler Holst, David Erritzøe, Julian Mac...  \n",
       "1                                  Finn Årup Nielsen  \n",
       "2           Michael Andreas Etter, Finn Årup Nielsen  \n",
       "3  Itziar Castelló, Michael Andreas Etter, Finn Å...  \n",
       "4  Arto Lanamäki, Mohamad Mehdi, Chitu Okoli, Mos...  "
      ]
     },
     "execution_count": 4,
     "metadata": {},
     "output_type": "execute_result"
    }
   ],
   "source": [
    "df.head()"
   ]
  },
  {
   "cell_type": "code",
   "execution_count": 5,
   "metadata": {
    "collapsed": false
   },
   "outputs": [],
   "source": [
    "df.pages = [float(page.value) if page else np.nan for page in df.pages]"
   ]
  },
  {
   "cell_type": "code",
   "execution_count": 6,
   "metadata": {
    "collapsed": false
   },
   "outputs": [
    {
     "data": {
      "image/png": "[encoded data removed]",
      "text/plain": [
       "<matplotlib.figure.Figure at 0x7f4c8e12d190>"
      ]
     },
     "metadata": {},
     "output_type": "display_data"
    }
   ],
   "source": [
    "df.pages.hist(bins=range(int(max(df.pages))+1))\n",
    "ylabel('Absolute frequency')\n",
    "xlabel('Number of pages')\n",
    "title(u\"Histogram of number of pages in Finn Årup Nielsen's papers\")\n",
    "show()"
   ]
  },
  {
   "cell_type": "code",
   "execution_count": 7,
   "metadata": {
    "collapsed": false
   },
   "outputs": [],
   "source": [
    "df.year = [int(date.value[:4]) for date in df.date]"
   ]
  },
  {
   "cell_type": "code",
   "execution_count": 8,
   "metadata": {
    "collapsed": false
   },
   "outputs": [
    {
     "data": {
      "image/png": "[encoded data removed]",
      "text/plain": [
       "<matplotlib.figure.Figure at 0x7f4c8e18fed0>"
      ]
     },
     "metadata": {},
     "output_type": "display_data"
    }
   ],
   "source": [
    "df.groupby(by=df.year).sum().plot(kind='bar')\n",
    "xlabel('Year')\n",
    "ylabel('Pages published per year')\n",
    "show()"
   ]
  },
  {
   "cell_type": "code",
   "execution_count": null,
   "metadata": {
    "collapsed": true
   },
   "outputs": [],
   "source": []
  }
 ],
 "metadata": {
  "kernelspec": {
   "display_name": "Python 2",
   "language": "python",
   "name": "python2"
  },
  "language_info": {
   "codemirror_mode": {
    "name": "ipython",
    "version": 2
   },
   "file_extension": ".py",
   "mimetype": "text/x-python",
   "name": "python",
   "nbconvert_exporter": "python",
   "pygments_lexer": "ipython2",
   "version": "2.7.12"
  }
 },
 "nbformat": 4,
 "nbformat_minor": 1
}
